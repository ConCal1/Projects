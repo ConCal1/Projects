{
 "cells": [
  {
   "cell_type": "markdown",
   "id": "56aeecfd-9d01-467d-9857-21ad601b782b",
   "metadata": {},
   "source": [
    "# BMI Calculator"
   ]
  },
  {
   "cell_type": "code",
   "execution_count": null,
   "id": "6a5c7e8b-32bc-462a-bec1-df6e78396003",
   "metadata": {},
   "outputs": [],
   "source": [
    "#BMI = (weight in pounds x 703) / (height in inches x height in inches)"
   ]
  },
  {
   "cell_type": "markdown",
   "id": "46de2dd8-0496-483f-b66f-804377495a70",
   "metadata": {},
   "source": [
    "| BMI | Classification | Risk | \n",
    "| --- | --- | --- |\n",
    "| Under 18.5 | Underweight | Minimal |\n",
    "| 18.5 - 24.9 | Normal Weight | Minimal |\n",
    "| 25 - 29.9 | Overweight | Increased |\n",
    "| 30 - 34.9 | Obese | High |\n",
    "| 35 - 39.9 | Severely Obese | Very High |\n",
    "| 40 and over| Morbidly Obese |Extremely High |"
   ]
  },
  {
   "cell_type": "code",
   "execution_count": 19,
   "id": "b6b29722-5989-408b-8634-c7689f8a122f",
   "metadata": {},
   "outputs": [
    {
     "name": "stdin",
     "output_type": "stream",
     "text": [
      "Enter weight in pounds:  170\n"
     ]
    }
   ],
   "source": [
    "weight = input(\"Enter weight in pounds: \")\n",
    "#input allows you to type"
   ]
  },
  {
   "cell_type": "code",
   "execution_count": 21,
   "id": "00711d3d-a4eb-4b02-80ba-6d3aeebf2f3f",
   "metadata": {},
   "outputs": [
    {
     "name": "stdout",
     "output_type": "stream",
     "text": [
      "170\n"
     ]
    }
   ],
   "source": [
    "print(weight)"
   ]
  },
  {
   "cell_type": "code",
   "execution_count": 7,
   "id": "62bc3ac7-c67e-467e-9da3-0b6206f6f1e4",
   "metadata": {},
   "outputs": [
    {
     "name": "stdin",
     "output_type": "stream",
     "text": [
      "Enter weight in pounds:  170\n",
      "Enter height in inches:  69\n"
     ]
    }
   ],
   "source": [
    "weight = input(\"Enter weight in pounds: \")\n",
    "\n",
    "height = input(\"Enter height in inches: \")"
   ]
  },
  {
   "cell_type": "code",
   "execution_count": 25,
   "id": "b24010ad-c406-4a74-a927-be1ed1bf2f58",
   "metadata": {},
   "outputs": [
    {
     "data": {
      "text/plain": [
       "str"
      ]
     },
     "execution_count": 25,
     "metadata": {},
     "output_type": "execute_result"
    }
   ],
   "source": [
    "type(weight)\n",
    "#to know data type"
   ]
  },
  {
   "cell_type": "code",
   "execution_count": 27,
   "id": "0b444b5b-ee61-462c-8b8b-161a719c4818",
   "metadata": {},
   "outputs": [
    {
     "data": {
      "text/plain": [
       "int"
      ]
     },
     "execution_count": 27,
     "metadata": {},
     "output_type": "execute_result"
    }
   ],
   "source": [
    "type(height)\n",
    "#to know data type"
   ]
  },
  {
   "cell_type": "code",
   "execution_count": 39,
   "id": "2f80efa0-feb8-456a-ac1f-88e533ab829a",
   "metadata": {},
   "outputs": [
    {
     "name": "stdin",
     "output_type": "stream",
     "text": [
      "Enter your name:  Alex\n",
      "Enter weight in pounds:  170\n",
      "Enter height in inches:  69\n"
     ]
    },
    {
     "name": "stdout",
     "output_type": "stream",
     "text": [
      "25.101869355177485\n",
      "Alex, you are overweight. You need to exercise more and stop sitting and writing so many Python tutorials.\n"
     ]
    }
   ],
   "source": [
    "name = input(\"Enter your name: \")\n",
    "\n",
    "weight = int(input(\"Enter weight in pounds: \"))\n",
    "\n",
    "height = int(input(\"Enter height in inches: \"))\n",
    "\n",
    "BMI = (weight * 703) / (height * height)\n",
    "\n",
    "print(BMI)\n",
    "\n",
    "if BMI>0:\n",
    "    if(BMI<18.5):\n",
    "        print(name + \", you are underweight.\")\n",
    "    elif(BMI<=24.9):\n",
    "        print(name + \", you are normal weight.\")\n",
    "    elif(BMI<29.9):\n",
    "        print(name + \", you are overweight. You need to exercise more and stop sitting and writing so many Python tutorials.\")\n",
    "    elif(BMI<34.9):\n",
    "        print(name + \", you are obese.\")\n",
    "    elif(BMI<39.9):\n",
    "        print(name + \", you are severely obese.\")\n",
    "    else:\n",
    "        print(name + \", you are morbidly obese.\")\n",
    "else:\n",
    "    print(\"Enter valid input\")"
   ]
  },
  {
   "cell_type": "code",
   "execution_count": 37,
   "id": "8b9d77a1-d70c-4820-a159-e1492b85ef18",
   "metadata": {},
   "outputs": [
    {
     "name": "stdout",
     "output_type": "stream",
     "text": [
      "Alex, you are overweight.\n"
     ]
    }
   ],
   "source": [
    "if BMI>0:\n",
    "    if(BMI<18.5):\n",
    "        print(name + \", you are underweight.\")\n",
    "    elif(BMI<=24.9):\n",
    "        print(name + \", you are normal weight.\")\n",
    "    elif(BMI<29.9):\n",
    "        print(name + \", you are overweight.\")\n",
    "    elif(BMI<34.9):\n",
    "        print(name + \", you are obese.\")\n",
    "    elif(BMI<39.9):\n",
    "        print(name + \", you are severely obese.\")\n",
    "    else:\n",
    "        print(name + \", you are morbidly obese.\")\n",
    "else:\n",
    "    print(\"Enter valid input\")"
   ]
  },
  {
   "cell_type": "code",
   "execution_count": null,
   "id": "42f87a2b-b610-4967-9911-8a9aac8427b9",
   "metadata": {},
   "outputs": [],
   "source": []
  },
  {
   "cell_type": "code",
   "execution_count": null,
   "id": "52441b1c-437c-4546-ae15-7acac2c9e876",
   "metadata": {},
   "outputs": [],
   "source": []
  },
  {
   "cell_type": "code",
   "execution_count": null,
   "id": "750dd461-4eba-46cf-9bac-400ee4feacb9",
   "metadata": {},
   "outputs": [],
   "source": []
  }
 ],
 "metadata": {
  "kernelspec": {
   "display_name": "Python 3 (ipykernel)",
   "language": "python",
   "name": "python3"
  },
  "language_info": {
   "codemirror_mode": {
    "name": "ipython",
    "version": 3
   },
   "file_extension": ".py",
   "mimetype": "text/x-python",
   "name": "python",
   "nbconvert_exporter": "python",
   "pygments_lexer": "ipython3",
   "version": "3.12.4"
  }
 },
 "nbformat": 4,
 "nbformat_minor": 5
}
