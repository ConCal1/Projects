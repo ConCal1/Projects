{
 "cells": [
  {
   "cell_type": "markdown",
   "id": "de1089db-357c-4dfb-98ac-ae27aa4f4c7e",
   "metadata": {},
   "source": [
    "# Automatic File Sorter in File Explorer"
   ]
  },
  {
   "cell_type": "code",
   "execution_count": 63,
   "id": "c8cef5a4-b9ad-486e-b8d0-2016058332d6",
   "metadata": {},
   "outputs": [],
   "source": [
    "import os, shutil\n",
    "#os = operating system\n",
    "#shutil = allows to perform high level operations in File Explorer\n",
    "#performs the importing"
   ]
  },
  {
   "cell_type": "code",
   "execution_count": 49,
   "id": "626c243f-1296-47ea-8031-0f8a5191598c",
   "metadata": {},
   "outputs": [],
   "source": [
    "path = r\"<insert path>\"\n",
    "#insert file location path to work\n",
    "#path where the files are located\n",
    "#including r allows the code to read the raw string"
   ]
  },
  {
   "cell_type": "code",
   "execution_count": 8,
   "id": "8d6688ee-acdd-4473-ab03-6c4d5729e8c2",
   "metadata": {},
   "outputs": [],
   "source": [
    "#Steps: 1) create the folder; 2) identify the file format"
   ]
  },
  {
   "cell_type": "markdown",
   "id": "977e7aa3-6392-46cb-ad95-35eb3443bd52",
   "metadata": {},
   "source": [
    "### Creating the Folders"
   ]
  },
  {
   "cell_type": "code",
   "execution_count": 51,
   "id": "573a9dc7-2b35-43d5-8341-6b7b937384a5",
   "metadata": {},
   "outputs": [],
   "source": [
    "file_name = os.listdir(path)\n",
    "#lists the files in path "
   ]
  },
  {
   "cell_type": "code",
   "execution_count": 65,
   "id": "fc18acdd-27a3-43b9-83d5-c96a1bcd27b2",
   "metadata": {},
   "outputs": [],
   "source": [
    "folder_names = ['csv files', 'image files', 'text files']\n",
    "#creates folder list\n",
    "\n",
    "for loop in range(0,3):\n",
    "    if not os.path.exists(path + folder_names[loop]):\n",
    "        #print(path + folder_names[loop])\n",
    "        os.makedirs(path + folder_names[loop])\n",
    "#checks if that path exists in a loop from position 0 to 3\n",
    "#if is does not exist, create the folders\n",
    "#prints the folder created"
   ]
  },
  {
   "cell_type": "markdown",
   "id": "b2229d2b-f71f-4903-8880-6547c9bdb564",
   "metadata": {},
   "source": [
    "### Sorting the Files"
   ]
  },
  {
   "cell_type": "code",
   "execution_count": 61,
   "id": "4af311ab-a960-4d6b-9cd4-e8c90381660a",
   "metadata": {},
   "outputs": [],
   "source": [
    "for file in file_name:\n",
    "    if \".csv\" in file and not os.path.exists(path + \"csv files/\" + file):\n",
    "        shutil.move(path + file, path + \"csv files/\" + file)\n",
    "    elif \".jpg\" in file and not os.path.exists(path + \"image files/\" + file):\n",
    "        shutil.move(path + file, path + \"image files/\" + file)\n",
    "    elif \".txt\" in file and not os.path.exists(path + \"text files/\" + file):\n",
    "        shutil.move(path + file, path + \"text files/\" + file)\n",
    "        \n",
    "#will loop in files under file_name path\n",
    "#checks if the csv file,  jpg file, and txt file are present\n",
    "#if not present, move the file to the designated file folder"
   ]
  },
  {
   "cell_type": "code",
   "execution_count": null,
   "id": "9100276d-30ee-4543-96ed-68b2abc2fb21",
   "metadata": {},
   "outputs": [],
   "source": []
  }
 ],
 "metadata": {
  "kernelspec": {
   "display_name": "Python 3 (ipykernel)",
   "language": "python",
   "name": "python3"
  },
  "language_info": {
   "codemirror_mode": {
    "name": "ipython",
    "version": 3
   },
   "file_extension": ".py",
   "mimetype": "text/x-python",
   "name": "python",
   "nbconvert_exporter": "python",
   "pygments_lexer": "ipython3",
   "version": "3.12.4"
  }
 },
 "nbformat": 4,
 "nbformat_minor": 5
}
